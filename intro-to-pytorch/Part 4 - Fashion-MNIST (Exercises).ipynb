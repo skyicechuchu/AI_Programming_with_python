{
 "cells": [
  {
   "cell_type": "markdown",
   "metadata": {},
   "source": [
    "# Classifying Fashion-MNIST\n",
    "\n",
    "Now it's your turn to build and train a neural network. You'll be using the [Fashion-MNIST dataset](https://github.com/zalandoresearch/fashion-mnist), a drop-in replacement for the MNIST dataset. MNIST is actually quite trivial with neural networks where you can easily achieve better than 97% accuracy. Fashion-MNIST is a set of 28x28 greyscale images of clothes. It's more complex than MNIST, so it's a better representation of the actual performance of your network, and a better representation of datasets you'll use in the real world.\n",
    "\n",
    "<img src='assets/fashion-mnist-sprite.png' width=500px>\n",
    "\n",
    "In this notebook, you'll build your own neural network. For the most part, you could just copy and paste the code from Part 3, but you wouldn't be learning. It's important for you to write the code yourself and get it to work. Feel free to consult the previous notebooks though as you work through this.\n",
    "\n",
    "First off, let's load the dataset through torchvision."
   ]
  },
  {
   "cell_type": "code",
   "execution_count": 1,
   "metadata": {
    "tags": []
   },
   "outputs": [
    {
     "output_type": "stream",
     "name": "stderr",
     "text": "0it [00:00, ?it/s]Downloading http://fashion-mnist.s3-website.eu-central-1.amazonaws.com/train-images-idx3-ubyte.gz to C:\\Users\\Qiaochu/.pytorch/F_MNIST_data/FashionMNIST\\raw\\train-images-idx3-ubyte.gz\n26427392it [00:05, 5067372.92it/s]\nExtracting C:\\Users\\Qiaochu/.pytorch/F_MNIST_data/FashionMNIST\\raw\\train-images-idx3-ubyte.gz to C:\\Users\\Qiaochu/.pytorch/F_MNIST_data/FashionMNIST\\raw\n0it [00:00, ?it/s]Downloading http://fashion-mnist.s3-website.eu-central-1.amazonaws.com/train-labels-idx1-ubyte.gz to C:\\Users\\Qiaochu/.pytorch/F_MNIST_data/FashionMNIST\\raw\\train-labels-idx1-ubyte.gz\n32768it [00:00, 51878.11it/s]\n0it [00:00, ?it/s]Extracting C:\\Users\\Qiaochu/.pytorch/F_MNIST_data/FashionMNIST\\raw\\train-labels-idx1-ubyte.gz to C:\\Users\\Qiaochu/.pytorch/F_MNIST_data/FashionMNIST\\raw\nDownloading http://fashion-mnist.s3-website.eu-central-1.amazonaws.com/t10k-images-idx3-ubyte.gz to C:\\Users\\Qiaochu/.pytorch/F_MNIST_data/FashionMNIST\\raw\\t10k-images-idx3-ubyte.gz\n4423680it [00:01, 2316280.15it/s]\n0it [00:00, ?it/s]Extracting C:\\Users\\Qiaochu/.pytorch/F_MNIST_data/FashionMNIST\\raw\\t10k-images-idx3-ubyte.gz to C:\\Users\\Qiaochu/.pytorch/F_MNIST_data/FashionMNIST\\raw\nDownloading http://fashion-mnist.s3-website.eu-central-1.amazonaws.com/t10k-labels-idx1-ubyte.gz to C:\\Users\\Qiaochu/.pytorch/F_MNIST_data/FashionMNIST\\raw\\t10k-labels-idx1-ubyte.gz\n8192it [00:00, 21507.62it/s]\nExtracting C:\\Users\\Qiaochu/.pytorch/F_MNIST_data/FashionMNIST\\raw\\t10k-labels-idx1-ubyte.gz to C:\\Users\\Qiaochu/.pytorch/F_MNIST_data/FashionMNIST\\raw\nProcessing...\nDone!\n"
    }
   ],
   "source": [
    "import torch\n",
    "from torchvision import datasets, transforms\n",
    "import helper\n",
    "\n",
    "# Define a transform to normalize the data\n",
    "transform = transforms.Compose([transforms.ToTensor(),\n",
    "                                transforms.Normalize((0.5,), (0.5,))])\n",
    "# Download and load the training data\n",
    "trainset = datasets.FashionMNIST('~/.pytorch/F_MNIST_data/', download=True, train=True, transform=transform)\n",
    "trainloader = torch.utils.data.DataLoader(trainset, batch_size=64, shuffle=True)\n",
    "\n",
    "# Download and load the test data\n",
    "testset = datasets.FashionMNIST('~/.pytorch/F_MNIST_data/', download=True, train=False, transform=transform)\n",
    "testloader = torch.utils.data.DataLoader(testset, batch_size=64, shuffle=True)"
   ]
  },
  {
   "cell_type": "markdown",
   "metadata": {},
   "source": [
    "Here we can see one of the images."
   ]
  },
  {
   "cell_type": "code",
   "execution_count": 2,
   "metadata": {},
   "outputs": [
    {
     "output_type": "display_data",
     "data": {
      "text/plain": "<Figure size 432x288 with 1 Axes>",
      "image/svg+xml": "<?xml version=\"1.0\" encoding=\"utf-8\" standalone=\"no\"?>\r\n<!DOCTYPE svg PUBLIC \"-//W3C//DTD SVG 1.1//EN\"\r\n  \"http://www.w3.org/Graphics/SVG/1.1/DTD/svg11.dtd\">\r\n<!-- Created with matplotlib (https://matplotlib.org/) -->\r\n<svg height=\"231.84pt\" version=\"1.1\" viewBox=\"0 0 231.84 231.84\" width=\"231.84pt\" xmlns=\"http://www.w3.org/2000/svg\" xmlns:xlink=\"http://www.w3.org/1999/xlink\">\r\n <defs>\r\n  <style type=\"text/css\">\r\n*{stroke-linecap:butt;stroke-linejoin:round;}\r\n  </style>\r\n </defs>\r\n <g id=\"figure_1\">\r\n  <g id=\"patch_1\">\r\n   <path d=\"M 0 231.84 \r\nL 231.84 231.84 \r\nL 231.84 0 \r\nL 0 0 \r\nz\r\n\" style=\"fill:none;\"/>\r\n  </g>\r\n  <g id=\"axes_1\">\r\n   <g id=\"patch_2\">\r\n    <path d=\"M 7.2 224.64 \r\nL 224.64 224.64 \r\nL 224.64 7.2 \r\nL 7.2 7.2 \r\nz\r\n\" style=\"fill:#ffffff;\"/>\r\n   </g>\r\n   <g clip-path=\"url(#p12e1c50c79)\">\r\n    <image height=\"218\" id=\"image76064d6ba0\" transform=\"scale(1 -1)translate(0 -218)\" width=\"218\" x=\"7.2\" xlink:href=\"data:image/png;base64,\r\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\" y=\"-6.64\"/>\r\n   </g>\r\n   <g id=\"matplotlib.axis_1\">\r\n    <g id=\"xtick_1\">\r\n     <g id=\"line2d_1\"/>\r\n    </g>\r\n    <g id=\"xtick_2\">\r\n     <g id=\"line2d_2\"/>\r\n    </g>\r\n    <g id=\"xtick_3\">\r\n     <g id=\"line2d_3\"/>\r\n    </g>\r\n    <g id=\"xtick_4\">\r\n     <g id=\"line2d_4\"/>\r\n    </g>\r\n    <g id=\"xtick_5\">\r\n     <g id=\"line2d_5\"/>\r\n    </g>\r\n    <g id=\"xtick_6\">\r\n     <g id=\"line2d_6\"/>\r\n    </g>\r\n   </g>\r\n   <g id=\"matplotlib.axis_2\">\r\n    <g id=\"ytick_1\">\r\n     <g id=\"line2d_7\"/>\r\n    </g>\r\n    <g id=\"ytick_2\">\r\n     <g id=\"line2d_8\"/>\r\n    </g>\r\n    <g id=\"ytick_3\">\r\n     <g id=\"line2d_9\"/>\r\n    </g>\r\n    <g id=\"ytick_4\">\r\n     <g id=\"line2d_10\"/>\r\n    </g>\r\n    <g id=\"ytick_5\">\r\n     <g id=\"line2d_11\"/>\r\n    </g>\r\n    <g id=\"ytick_6\">\r\n     <g id=\"line2d_12\"/>\r\n    </g>\r\n   </g>\r\n  </g>\r\n </g>\r\n <defs>\r\n  <clipPath id=\"p12e1c50c79\">\r\n   <rect height=\"217.44\" width=\"217.44\" x=\"7.2\" y=\"7.2\"/>\r\n  </clipPath>\r\n </defs>\r\n</svg>\r\n",
      "image/png": "[encoded data removed]"
     },
     "metadata": {
      "needs_background": "light"
     }
    }
   ],
   "source": [
    "image, label = next(iter(trainloader))\n",
    "helper.imshow(image[0,:]);"
   ]
  },
  {
   "cell_type": "markdown",
   "metadata": {},
   "source": [
    "## Building the network\n",
    "\n",
    "Here you should define your network. As with MNIST, each image is 28x28 which is a total of 784 pixels, and there are 10 classes. You should include at least one hidden layer. We suggest you use ReLU activations for the layers and to return the logits or log-softmax from the forward pass. It's up to you how many layers you add and the size of those layers."
   ]
  },
  {
   "cell_type": "code",
   "execution_count": 4,
   "metadata": {},
   "outputs": [],
   "source": [
    "# TODO: Define your network architecture here\n",
    "from torch import nn\n",
    "\n",
    "model = nn.Sequential(nn.Linear(784, 128),\n",
    "                      nn.ReLU(),\n",
    "                      nn.Linear(128, 64),\n",
    "                      nn.ReLU(),\n",
    "                      nn.Linear(64, 10),\n",
    "                      nn.LogSoftmax(dim=1))"
   ]
  },
  {
   "cell_type": "markdown",
   "metadata": {},
   "source": [
    "# Train the network\n",
    "\n",
    "Now you should create your network and train it. First you'll want to define [the criterion](http://pytorch.org/docs/master/nn.html#loss-functions) ( something like `nn.CrossEntropyLoss`) and [the optimizer](http://pytorch.org/docs/master/optim.html) (typically `optim.SGD` or `optim.Adam`).\n",
    "\n",
    "Then write the training code. Remember the training pass is a fairly straightforward process:\n",
    "\n",
    "* Make a forward pass through the network to get the logits \n",
    "* Use the logits to calculate the loss\n",
    "* Perform a backward pass through the network with `loss.backward()` to calculate the gradients\n",
    "* Take a step with the optimizer to update the weights\n",
    "\n",
    "By adjusting the hyperparameters (hidden units, learning rate, etc), you should be able to get the training loss below 0.4."
   ]
  },
  {
   "cell_type": "code",
   "execution_count": 7,
   "metadata": {},
   "outputs": [],
   "source": [
    "# TODO: Create the network, define the criterion and optimizer\n",
    "from torch import optim\n",
    "\n",
    "criterion = nn.NLLLoss()\n",
    "optimizer = optim.SGD(model.parameters(), lr=0.004)"
   ]
  },
  {
   "cell_type": "code",
   "execution_count": 9,
   "metadata": {
    "tags": []
   },
   "outputs": [
    {
     "output_type": "stream",
     "name": "stdout",
     "text": "Training loss: 0.44221110792874274\nTraining loss: 0.4328928880218758\nTraining loss: 0.42483201268702936\nTraining loss: 0.41729744814479275\nTraining loss: 0.41051325227405977\nTraining loss: 0.4045269512005452\nTraining loss: 0.39920948240866283\nTraining loss: 0.39341541946823916\nTraining loss: 0.3884671386212174\n"
    }
   ],
   "source": [
    "# TODO: Train the network here\n",
    "epochs = 9\n",
    "for e in range(epochs):\n",
    "    running_loss = 0\n",
    "    for images, labels in trainloader:\n",
    "        # Flatten MNIST images into a 784 long vector\n",
    "        images = images.view(images.shape[0], -1)\n",
    "    \n",
    "        # TODO: Training pass\n",
    "        \n",
    "        optimizer.zero_grad()\n",
    "        output = model.forward(images)\n",
    "        loss = criterion(output, labels)\n",
    "        loss.backward()\n",
    "        optimizer.step()\n",
    "        \n",
    "        running_loss += loss.item()\n",
    "    else:\n",
    "        print(f\"Training loss: {running_loss/len(trainloader)}\")"
   ]
  },
  {
   "cell_type": "code",
   "execution_count": 14,
   "metadata": {},
   "outputs": [
    {
     "output_type": "display_data",
     "data": {
      "text/plain": "<Figure size 432x648 with 2 Axes>",
      "image/png": "[encoded data removed]"
     },
     "metadata": {
      "image/png": {
       "width": 424,
       "height": 216
      },
      "needs_background": "light"
     }
    }
   ],
   "source": [
    "%matplotlib inline\n",
    "%config InlineBackend.figure_format = 'retina'\n",
    "\n",
    "import helper\n",
    "\n",
    "# Test out your network!\n",
    "\n",
    "dataiter = iter(testloader)\n",
    "images, labels = dataiter.next()\n",
    "img = images[0]\n",
    "# Convert 2D image to 1D vector\n",
    "img = img.resize_(1, 784)\n",
    "\n",
    "# TODO: Calculate the class probabilities (softmax) for img\n",
    "ps = torch.exp(model(img))\n",
    "\n",
    "# Plot the image and probabilities\n",
    "helper.view_classify(img.resize_(1, 28, 28), ps, version='Fashion')"
   ]
  },
  {
   "cell_type": "code",
   "execution_count": null,
   "metadata": {},
   "outputs": [],
   "source": []
  }
 ],
 "metadata": {
  "kernelspec": {
   "display_name": "Python 3",
   "language": "python",
   "name": "python3"
  },
  "language_info": {
   "codemirror_mode": {
    "name": "ipython",
    "version": 3
   },
   "file_extension": ".py",
   "mimetype": "text/x-python",
   "name": "python",
   "nbconvert_exporter": "python",
   "pygments_lexer": "ipython3",
   "version": "3.8.2-final"
  }
 },
 "nbformat": 4,
 "nbformat_minor": 2
}